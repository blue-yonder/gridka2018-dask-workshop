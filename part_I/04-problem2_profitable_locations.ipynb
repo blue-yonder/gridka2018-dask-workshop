{
 "cells": [
  {
   "cell_type": "markdown",
   "metadata": {},
   "source": [
    "# Problem 2: Where should I wait with my taxi for a pickup?\n",
    "* where can I maximize the number of rides?\n",
    "* where to I earn the most money?\n",
    "* where to I get the most tips?"
   ]
  },
  {
   "cell_type": "code",
   "execution_count": null,
   "metadata": {},
   "outputs": [],
   "source": [
    "# same procedure as...\n",
    "import pandas as pd\n",
    "import matplotlib.pyplot as plt\n",
    "import numpy as np\n",
    "import seaborn as sns\n",
    "%matplotlib inline"
   ]
  },
  {
   "cell_type": "code",
   "execution_count": null,
   "metadata": {},
   "outputs": [],
   "source": [
    "# same\n",
    "df = pd.read_csv('../../taxi-data-csv/yellow_tripdata_2017-01.csv', nrows=1000000, parse_dates=['tpep_pickup_datetime', 'tpep_dropoff_datetime'])"
   ]
  },
  {
   "cell_type": "code",
   "execution_count": null,
   "metadata": {},
   "outputs": [],
   "source": [
    "df.head()"
   ]
  },
  {
   "cell_type": "code",
   "execution_count": null,
   "metadata": {},
   "outputs": [],
   "source": [
    "# the locations are just numbers, but there is a csv containing the corresponding names\n",
    "locations = pd.read_csv('./taxi_zone_lookup.csv')"
   ]
  },
  {
   "cell_type": "code",
   "execution_count": null,
   "metadata": {
    "scrolled": true
   },
   "outputs": [],
   "source": [
    "locations"
   ]
  },
  {
   "cell_type": "code",
   "execution_count": null,
   "metadata": {},
   "outputs": [],
   "source": [
    "# bringing together both df is called a join, or a merge\n",
    "df_merged = pd.merge(df, locations, left_on='PULocationID', right_on='LocationID', suffixes=(\"\",\"_pu\"))\n",
    "df_merged = pd.merge(df_merged, locations, left_on='DOLocationID', right_on='LocationID', suffixes=(\"\",\"_do\"))"
   ]
  },
  {
   "cell_type": "code",
   "execution_count": null,
   "metadata": {},
   "outputs": [],
   "source": [
    "df_merged"
   ]
  },
  {
   "cell_type": "code",
   "execution_count": null,
   "metadata": {},
   "outputs": [],
   "source": [
    "df_cut.fare_amount.hist(bins=100)"
   ]
  },
  {
   "cell_type": "code",
   "execution_count": null,
   "metadata": {},
   "outputs": [],
   "source": [
    "df_cut = df_merged[(df_merged['fare_amount']>0)&(df_merged['fare_amount']<100)]"
   ]
  },
  {
   "cell_type": "code",
   "execution_count": null,
   "metadata": {},
   "outputs": [],
   "source": [
    "df_cut[df_cut.Borough=='Manhattan'].fare_amount.hist(bins=100)"
   ]
  },
  {
   "cell_type": "code",
   "execution_count": null,
   "metadata": {},
   "outputs": [],
   "source": [
    "df_cut.groupby(df_cut.Borough).fare_amount.mean().nlargest(15)"
   ]
  },
  {
   "cell_type": "code",
   "execution_count": null,
   "metadata": {},
   "outputs": [],
   "source": [
    "# what about goint to manhattan vs. going out manhattan\n",
    "# first cut out all non manhattan rides \n",
    "df_cut = df_merged[(df_merged.Borough!=df_merged.Borough_do)&((df_merged.Borough=='Manhattan')|(df_merged.Borough_do=='Manhattan'))]\n",
    "df_cut = df_cut[(df_cut['fare_amount']>0)&(df_cut['fare_amount']<100)]"
   ]
  },
  {
   "cell_type": "code",
   "execution_count": null,
   "metadata": {},
   "outputs": [],
   "source": [
    "df_cut['is_going_in'] = (df_cut.Borough_do=='Manhattan')"
   ]
  },
  {
   "cell_type": "code",
   "execution_count": null,
   "metadata": {},
   "outputs": [],
   "source": [
    "df_cut[df_cut['is_going_in']==False]"
   ]
  },
  {
   "cell_type": "code",
   "execution_count": null,
   "metadata": {},
   "outputs": [],
   "source": [
    "fig, ax = plt.subplots()\n",
    "df_cut[df_cut['is_going_in']==True].fare_amount.hist(ax=ax, bins=100, alpha = 0.5)\n",
    "df_cut[df_cut['is_going_in']==False].fare_amount.hist(ax=ax, bins=100, alpha = 0.5)"
   ]
  },
  {
   "cell_type": "code",
   "execution_count": null,
   "metadata": {},
   "outputs": [],
   "source": [
    "sns.regplot(x=df_cut.tpep_pickup_datetime.dt.hour, y=df_cut['is_going_in'], x_bins=50, fit_reg=None)"
   ]
  },
  {
   "cell_type": "markdown",
   "metadata": {},
   "source": [
    "# Now it's your turn!\n",
    "Explore a bit further:\n",
    "* can you spot interesting correlations with the location?\n",
    "* how is distance correlated with location?\n",
    "* are tips some locations higher?\n"
   ]
  }
 ],
 "metadata": {
  "kernelspec": {
   "display_name": "Python 3",
   "language": "python",
   "name": "python3"
  },
  "language_info": {
   "codemirror_mode": {
    "name": "ipython",
    "version": 3
   },
   "file_extension": ".py",
   "mimetype": "text/x-python",
   "name": "python",
   "nbconvert_exporter": "python",
   "pygments_lexer": "ipython3",
   "version": "3.7.0"
  }
 },
 "nbformat": 4,
 "nbformat_minor": 2
}
