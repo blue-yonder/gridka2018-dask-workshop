{
 "cells": [
  {
   "cell_type": "markdown",
   "metadata": {
    "slideshow": {
     "slide_type": "slide"
    }
   },
   "source": [
    "# Environment setup"
   ]
  },
  {
   "cell_type": "markdown",
   "metadata": {
    "slideshow": {
     "slide_type": "slide"
    }
   },
   "source": [
    "## (virtual) environment\n",
    "\n",
    "* This example uses https://conda.io/miniconda.html\n",
    "* Alternatives:\n",
    " * virtualenv\n",
    " * python -m venv"
   ]
  },
  {
   "cell_type": "markdown",
   "metadata": {
    "slideshow": {
     "slide_type": "slide"
    }
   },
   "source": [
    "## Create a conda environment\n",
    "\n",
    "````\n",
    "conda create -n some-env python=3.6\n",
    "source activate some-env\n",
    "conda install pandas jupyterlab\n",
    "```"
   ]
  },
  {
   "cell_type": "markdown",
   "metadata": {
    "slideshow": {
     "slide_type": "slide"
    }
   },
   "source": [
    "## `.condarc`\n",
    "\n",
    "```\n",
    "show_channel_urls: true\n",
    "channels:\n",
    "  - conda-forge\n",
    "  - defaults\n",
    "add_pip_as_python_dependency: true\n",
    "```"
   ]
  },
  {
   "cell_type": "markdown",
   "metadata": {
    "slideshow": {
     "slide_type": "slide"
    }
   },
   "source": [
    "Start the notebook:\n",
    "    \n",
    "    jupyter notebook --allow-root --ip 0.0.0.0\n",
    "    \n",
    "You can then access the notebook in your lokal browser with the url and token given in the terminal, replacing the 0.0.0.0 with the ip adress of your VM."
   ]
  },
  {
   "cell_type": "code",
   "execution_count": null,
   "metadata": {},
   "outputs": [],
   "source": []
  }
 ],
 "metadata": {
  "celltoolbar": "Slideshow",
  "kernelspec": {
   "display_name": "Python 3",
   "language": "python",
   "name": "python3"
  },
  "language_info": {
   "codemirror_mode": {
    "name": "ipython",
    "version": 3
   },
   "file_extension": ".py",
   "mimetype": "text/x-python",
   "name": "python",
   "nbconvert_exporter": "python",
   "pygments_lexer": "ipython3",
   "version": "3.7.0"
  }
 },
 "nbformat": 4,
 "nbformat_minor": 1
}
