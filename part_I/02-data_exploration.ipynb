{
 "cells": [
  {
   "cell_type": "markdown",
   "metadata": {
    "slideshow": {
     "slide_type": "slide"
    }
   },
   "source": [
    "# Introduction into pandas\n",
    "\n",
    "## The dataframe\n",
    "\n",
    "* Core to pandas is a data structure called dataframe.\n",
    "* In principle it is a table like structure:\n",
    " * Named colums with arbitrary types\n",
    " * Indices to conveniently select, filter and aggregate rows\n",
    " \n",
    "\n",
    "    Index      | columns\n",
    "    -------------------------------------------------------\n",
    "    date       | temperature | humidity | description\n",
    "    -------------------------------------------------------\n",
    "    2018-08-15 | 36.6        | 0.8      | \"Hot like always\"\n",
    "    2018-08-16 | 40.6        | 0.9      | \"Even hotter\""
   ]
  },
  {
   "cell_type": "code",
   "execution_count": null,
   "metadata": {},
   "outputs": [],
   "source": [
    "# the most famous imports\n",
    "import pandas as pd\n",
    "import matplotlib.pyplot as plt\n",
    "import numpy as np\n",
    "%matplotlib inline"
   ]
  },
  {
   "cell_type": "markdown",
   "metadata": {},
   "source": [
    "Dataframes can be constructed und loaded from a vast amount of sources\n",
    "* directly from e.g. a dict, list of list...\n",
    "* file formatls: csv, parquet\n",
    "* from a DB via sql query "
   ]
  },
  {
   "cell_type": "code",
   "execution_count": null,
   "metadata": {},
   "outputs": [],
   "source": [
    "df = pd.DataFrame({\"a\": [1,2,3]*3, \"b\": ['a','b','c']*3, \"c\": [0.3,0.4,None]*3})\n",
    "df"
   ]
  },
  {
   "cell_type": "code",
   "execution_count": null,
   "metadata": {},
   "outputs": [],
   "source": [
    "# access like a dictionary\n",
    "df['b']"
   ]
  },
  {
   "cell_type": "code",
   "execution_count": null,
   "metadata": {},
   "outputs": [],
   "source": [
    "# access like a method (tab completion!)\n",
    "df.a"
   ]
  },
  {
   "cell_type": "code",
   "execution_count": null,
   "metadata": {},
   "outputs": [],
   "source": [
    "# multiple colums\n",
    "df[['b','c']]"
   ]
  },
  {
   "cell_type": "code",
   "execution_count": null,
   "metadata": {},
   "outputs": [],
   "source": [
    "# first 5 rows\n",
    "df[:5]"
   ]
  },
  {
   "cell_type": "code",
   "execution_count": null,
   "metadata": {},
   "outputs": [],
   "source": [
    "# 5 rows in the middle\n",
    "df[2:7] # slicing"
   ]
  },
  {
   "cell_type": "code",
   "execution_count": null,
   "metadata": {},
   "outputs": [],
   "source": [
    "# combine it (dice it!)\n",
    "df[['b','c']][2:7]"
   ]
  },
  {
   "cell_type": "code",
   "execution_count": null,
   "metadata": {},
   "outputs": [],
   "source": [
    "# filtering is very important!\n",
    "df['c'].notnull()"
   ]
  },
  {
   "cell_type": "code",
   "execution_count": null,
   "metadata": {},
   "outputs": [],
   "source": [
    "df['c']>0.3"
   ]
  },
  {
   "cell_type": "code",
   "execution_count": null,
   "metadata": {},
   "outputs": [],
   "source": [
    "# now we can use this \"binary\" index to filter out rows\n",
    "df[df['c']>0.3]"
   ]
  },
  {
   "cell_type": "code",
   "execution_count": null,
   "metadata": {},
   "outputs": [],
   "source": [
    "# we can also build complex logical combinations\n",
    "df[((df['c'].notnull())&(df['a']==2))|(df['b']=='a')]"
   ]
  },
  {
   "cell_type": "markdown",
   "metadata": {},
   "source": [
    "# Data exploration\n",
    "\n",
    "Now lets explore a real dataset: NYC Taxi and Limousine Commission trip dataset\n",
    "* free download at https://www1.nyc.gov/site/tlc/about/tlc-trip-record-data.page\n",
    "* 10GB per year only yello cab\n",
    "\n",
    "Let's explore it"
   ]
  },
  {
   "cell_type": "code",
   "execution_count": null,
   "metadata": {},
   "outputs": [],
   "source": [
    "# load the csv, but only the first 100000 rows (otherwise it's not fun)\n",
    "df = pd.read_csv('../../taxi-data-csv/yellow_tripdata_2017-01.csv', nrows=100000)"
   ]
  },
  {
   "cell_type": "code",
   "execution_count": null,
   "metadata": {
    "scrolled": true
   },
   "outputs": [],
   "source": [
    "# a very first step is just to look what it is\n",
    "df"
   ]
  },
  {
   "cell_type": "code",
   "execution_count": null,
   "metadata": {
    "scrolled": true
   },
   "outputs": [],
   "source": [
    "# also nice is describe for a variety of summary statistics\n",
    "df.describe()"
   ]
  },
  {
   "cell_type": "code",
   "execution_count": null,
   "metadata": {},
   "outputs": [],
   "source": [
    "# or only the first few rows\n",
    "df.head()"
   ]
  },
  {
   "cell_type": "code",
   "execution_count": null,
   "metadata": {},
   "outputs": [],
   "source": [
    "# very handy are some prediefined statistics functions\n",
    "df.tip_amount.mean()"
   ]
  },
  {
   "cell_type": "code",
   "execution_count": null,
   "metadata": {},
   "outputs": [],
   "source": [
    "df['tip_amount'].std()"
   ]
  },
  {
   "cell_type": "code",
   "execution_count": null,
   "metadata": {},
   "outputs": [],
   "source": [
    "# but also plotting is (very) easy \n",
    "df.tip_amount.hist()"
   ]
  },
  {
   "cell_type": "code",
   "execution_count": null,
   "metadata": {},
   "outputs": [],
   "source": [
    "# more bins!\n",
    "df.tip_amount.hist(bins=100)"
   ]
  },
  {
   "cell_type": "code",
   "execution_count": null,
   "metadata": {},
   "outputs": [],
   "source": [
    "# these are the things you have to search at stackoverflow...\n",
    "fig, ax = plt.subplots()\n",
    "df.tip_amount.hist(ax=ax, bins=100, bottom=0.1)\n",
    "ax.set_yscale('log')\n",
    "# negative tips?"
   ]
  },
  {
   "cell_type": "code",
   "execution_count": null,
   "metadata": {},
   "outputs": [],
   "source": [
    "#non 0 tips\n",
    "fig, ax = plt.subplots()\n",
    "df[(df.tip_amount>0)&(df.tip_amount<10)].tip_amount.hist(ax=ax, bins=100, bottom=0.1)"
   ]
  },
  {
   "cell_type": "code",
   "execution_count": null,
   "metadata": {},
   "outputs": [],
   "source": [
    "# 2D scatter plot is a very powerful visualization (but often very expensive)\n",
    "plt.scatter(df.trip_distance, df.tip_amount, s=1)"
   ]
  },
  {
   "cell_type": "code",
   "execution_count": null,
   "metadata": {},
   "outputs": [],
   "source": [
    "# often one wnats to \"zoom in\", we know how to do that: filtering!!\n",
    "df_cut = df[(df.tip_amount>0)&(df.tip_amount<30)&(df.trip_distance<10)]\n",
    "plt.scatter(df_cut.trip_distance, df_cut.tip_amount, s=1)"
   ]
  },
  {
   "cell_type": "code",
   "execution_count": null,
   "metadata": {},
   "outputs": [],
   "source": [
    "# but more useful is a a so called \"profile plot\", only available in the seaborn package\n",
    "import seaborn as sns\n",
    "sns.regplot(x=df_cut.trip_distance, y=df_cut.tip_amount, x_bins=15, fit_reg=None)"
   ]
  },
  {
   "cell_type": "code",
   "execution_count": null,
   "metadata": {},
   "outputs": [],
   "source": [
    "# not so useful, but awesome looking (very slow)\n",
    "f, ax = plt.subplots(figsize=(6, 6))\n",
    "cmap = sns.cubehelix_palette(as_cmap=True, dark=0, light=1, reverse=True)\n",
    "sns.kdeplot(df_cut.trip_distance, df_cut.tip_amount, cmap=cmap, n_levels=60, shade=True);\n"
   ]
  },
  {
   "cell_type": "code",
   "execution_count": null,
   "metadata": {},
   "outputs": [],
   "source": [
    "# a heatmap (2D-Histogram) is also an interesting visualization, but I haven't found one, so we have to build it\n",
    "df_cut = df[(df.tip_amount>3)&(df.tip_amount<15)&(df.trip_distance<15)]\n",
    "heatmap_df = df_cut.groupby([pd.cut(df_cut.trip_distance, 20), pd.cut(df_cut.tip_amount, 20)]).tip_amount.count()"
   ]
  },
  {
   "cell_type": "code",
   "execution_count": null,
   "metadata": {
    "scrolled": true
   },
   "outputs": [],
   "source": [
    "heatmap_df"
   ]
  },
  {
   "cell_type": "code",
   "execution_count": null,
   "metadata": {},
   "outputs": [],
   "source": [
    "# unstacking is a very important transformation, but I only do it try-and-error\n",
    "heatmap_df.unstack()"
   ]
  },
  {
   "cell_type": "code",
   "execution_count": null,
   "metadata": {},
   "outputs": [],
   "source": [
    "# now plot the 2d-matrix as a heatmap\n",
    "ax = sns.heatmap(heatmap_df.unstack())"
   ]
  },
  {
   "cell_type": "code",
   "execution_count": null,
   "metadata": {},
   "outputs": [],
   "source": [
    "from matplotlib.colors import LogNorm\n",
    "ax = sns.heatmap(heatmap_df.unstack(), norm=LogNorm(vmin=heatmap_df.min(), vmax=heatmap_df.max()))"
   ]
  },
  {
   "cell_type": "markdown",
   "metadata": {},
   "source": [
    "# Now it's your turn!\n",
    "Explore a bit further:\n",
    "* what other variables are there?\n",
    "* what data types are they?\n",
    "* is data missing?\n",
    "* can you spot interesting correlations\n"
   ]
  }
 ],
 "metadata": {
  "celltoolbar": "Slideshow",
  "kernelspec": {
   "display_name": "Python 3",
   "language": "python",
   "name": "python3"
  },
  "language_info": {
   "codemirror_mode": {
    "name": "ipython",
    "version": 3
   },
   "file_extension": ".py",
   "mimetype": "text/x-python",
   "name": "python",
   "nbconvert_exporter": "python",
   "pygments_lexer": "ipython3",
   "version": "3.7.3"
  }
 },
 "nbformat": 4,
 "nbformat_minor": 4
}
