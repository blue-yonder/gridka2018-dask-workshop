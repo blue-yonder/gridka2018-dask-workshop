{
 "cells": [
  {
   "cell_type": "markdown",
   "metadata": {},
   "source": [
    "# Really short introduction\n",
    "\n",
    "## Introduction to Jupyter notebooks\n",
    "\n",
    "Jupyter notebooks are able to execute code interactively.\n",
    "In order to execute code, click into a cell and press the \"play\" button or (recommended) press shift+enter"
   ]
  },
  {
   "cell_type": "code",
   "execution_count": null,
   "metadata": {},
   "outputs": [],
   "source": [
    "# press shift + enter here:\n",
    "for i in range(10):\n",
    "    print(\"Hello {}\".format(i))"
   ]
  },
  {
   "cell_type": "markdown",
   "metadata": {},
   "source": [
    "## A very short python introduction"
   ]
  },
  {
   "cell_type": "markdown",
   "metadata": {},
   "source": [
    "Dynamically (but strongly) typed language"
   ]
  },
  {
   "cell_type": "code",
   "execution_count": null,
   "metadata": {},
   "outputs": [],
   "source": [
    "i = 2\n",
    "print(i)\n",
    "print(type(i))\n",
    "i = \"string\"\n",
    "print(i)\n",
    "print(type(i))"
   ]
  },
  {
   "cell_type": "markdown",
   "metadata": {},
   "source": [
    "Built for being easy to learn:\n",
    "* minimal boilerplate\n",
    "* human readable syntax\n",
    "* batteries included: huge standard libraries\n",
    "* plenty of usefull data types: dicts, sets, lists,..."
   ]
  },
  {
   "cell_type": "markdown",
   "metadata": {},
   "source": [
    "## Look Mom, no external library!\n",
    "\n",
    "Let's try to do some data science with no external library, but still comprehensive syntax and some level of convenience"
   ]
  },
  {
   "cell_type": "code",
   "execution_count": null,
   "metadata": {},
   "outputs": [],
   "source": [
    "# list comprehension\n",
    "a = [i for i in range(10)]\n",
    "print(a)"
   ]
  },
  {
   "cell_type": "code",
   "execution_count": null,
   "metadata": {},
   "outputs": [],
   "source": [
    "# but in this simple case, the constructor of a list does the job\n",
    "b = list(range(0,20,2))\n",
    "print(b)"
   ]
  },
  {
   "cell_type": "code",
   "execution_count": null,
   "metadata": {},
   "outputs": [],
   "source": [
    "# dicts are soooo usefull, use them just everywhere (at least never again write a class as a data structure)\n",
    "my_table = {\"column_a\": a, \n",
    "            \"column_b\": b} \n",
    "print(my_table)"
   ]
  },
  {
   "cell_type": "code",
   "execution_count": null,
   "metadata": {},
   "outputs": [],
   "source": [
    "# 'keys' returns a list of the keys (our columns)\n",
    "my_table.keys()"
   ]
  },
  {
   "cell_type": "code",
   "execution_count": null,
   "metadata": {},
   "outputs": [],
   "source": [
    "# 'values' returns a list of the values\n",
    "my_table.values()"
   ]
  },
  {
   "cell_type": "code",
   "execution_count": null,
   "metadata": {},
   "outputs": [],
   "source": [
    "# zip is one of those useful little helpers, glues together lists like a zipper\n",
    "for row in zip(my_table[\"column_a\"], my_table[\"column_b\"]):\n",
    "    print(row)"
   ]
  },
  {
   "cell_type": "code",
   "execution_count": null,
   "metadata": {},
   "outputs": [],
   "source": [
    "# So easy to define a function\n",
    "def pretty_print_table(table):\n",
    "    # \"*\" is not a pointer, it \"unpacks\" a list, very handy to pass it as function parameters\n",
    "    for row in zip(*my_table.values()):\n",
    "        print(row)\n",
    "pretty_print_table(my_table)"
   ]
  },
  {
   "cell_type": "code",
   "execution_count": null,
   "metadata": {},
   "outputs": [],
   "source": [
    "def square(x):\n",
    "    return x*x\n",
    "\n",
    "# lets do some map reduce!\n",
    "# map assigns the funtion \"square\" to every item in my_table[\"column_b\"] and a new list is created with the results\n",
    "my_table[\"column_c\"] = list(map(square, my_table[\"column_b\"]))\n",
    "pretty_print_table(my_table)"
   ]
  },
  {
   "cell_type": "code",
   "execution_count": null,
   "metadata": {},
   "outputs": [],
   "source": [
    "from functools import reduce # <- don't ask why map is in the namespace, but reduce has to be imported\n",
    "def sum(a,b):\n",
    "    return a + b\n",
    "\n",
    "# \"reduce\" aggregates a list by iteratively calling \"sum\" with the result of the previous call and the next item\n",
    "# 1 2 3 4\n",
    "# \\/ | |\n",
    "#  \\/  |\n",
    "#   \\/\n",
    "# 3 = sum(1, 2)\n",
    "# 6 = sum(3, 3)\n",
    "# 10 = sum(6, 4)\n",
    "my_sum = reduce(sum, my_table[\"column_c\"])\n",
    "print(my_sum)"
   ]
  },
  {
   "cell_type": "code",
   "execution_count": null,
   "metadata": {},
   "outputs": [],
   "source": [
    "mean = my_sum/len(my_table[\"column_c\"])\n",
    "print(mean)"
   ]
  },
  {
   "cell_type": "code",
   "execution_count": null,
   "metadata": {},
   "outputs": [],
   "source": [
    "# A general variance function using map and reduce in 5 loc\n",
    "def variance(samples):\n",
    "    # lambdas are \"inline\" no-name function definitions for lazy people\n",
    "    mean = reduce(lambda a, b: a + b, samples)/len(samples)\n",
    "    quadratic_residuals = list(map(lambda a: (a - mean) * (a - mean), samples))\n",
    "    variance = reduce(lambda a, b: a + b, quadratic_residuals)/len(quadratic_residuals)\n",
    "    return variance\n",
    "# can you spot the code duplication?"
   ]
  },
  {
   "cell_type": "code",
   "execution_count": null,
   "metadata": {},
   "outputs": [],
   "source": [
    "variance(my_table[\"column_c\"])"
   ]
  },
  {
   "cell_type": "markdown",
   "metadata": {},
   "source": [
    "# But now forget everything we did here...\n",
    "...because there are third party libraries doing all that!\n",
    "\n",
    "* numpy for the low level stuff: mean, variance, high performant array operations,...\n",
    "* pandas for the high level stuff: dataframes, statistics, visualisations... \n",
    "* dask for data which doesn't fit your laptop memory: out-of-core, cluster computations"
   ]
  },
  {
   "cell_type": "code",
   "execution_count": null,
   "metadata": {},
   "outputs": [],
   "source": []
  }
 ],
 "metadata": {
  "kernelspec": {
   "display_name": "Python 3",
   "language": "python",
   "name": "python3"
  },
  "language_info": {
   "codemirror_mode": {
    "name": "ipython",
    "version": 3
   },
   "file_extension": ".py",
   "mimetype": "text/x-python",
   "name": "python",
   "nbconvert_exporter": "python",
   "pygments_lexer": "ipython3",
   "version": "3.7.0"
  }
 },
 "nbformat": 4,
 "nbformat_minor": 2
}
