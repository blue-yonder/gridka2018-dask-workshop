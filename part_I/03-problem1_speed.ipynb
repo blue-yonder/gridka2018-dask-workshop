{
 "cells": [
  {
   "cell_type": "markdown",
   "metadata": {},
   "source": [
    "# Problem 1: When should I go by taxi to be fastest at my destination?"
   ]
  },
  {
   "cell_type": "code",
   "execution_count": null,
   "metadata": {},
   "outputs": [],
   "source": [
    "import pandas as pd\n",
    "import matplotlib.pyplot as plt\n",
    "import numpy as np\n",
    "%matplotlib inline"
   ]
  },
  {
   "cell_type": "code",
   "execution_count": null,
   "metadata": {},
   "outputs": [],
   "source": [
    "import os",
    "\n",
    "nytaxi_directory='/srv/taxi-data-csv'"
   ]
  },
  {
   "cell_type": "code",
   "execution_count": null,
   "metadata": {},
   "outputs": [],
   "source": [
    "df = pd.read_csv(os.path.join(nytaxi_directory, 'yellow_tripdata_2017-01.csv'), nrows=100000)"
   ]
  },
  {
   "cell_type": "code",
   "execution_count": null,
   "metadata": {},
   "outputs": [],
   "source": [
    "#let's have a look at the types\n",
    "df.dtypes"
   ]
  },
  {
   "cell_type": "code",
   "execution_count": null,
   "metadata": {},
   "outputs": [],
   "source": [
    "# the datetime columns should be parsed as datetimes\n",
    "df = pd.read_csv(os.path.join(nytaxi_directory, 'yellow_tripdata_2017-01.csv'), nrows=1000000, parse_dates=['tpep_pickup_datetime', 'tpep_dropoff_datetime'])"
   ]
  },
  {
   "cell_type": "code",
   "execution_count": null,
   "metadata": {},
   "outputs": [],
   "source": [
    "#let's calculate the trip duration from the pickup and drop down times and store it as a new column\n",
    "df['trip_duration'] = (df.tpep_dropoff_datetime-df.tpep_pickup_datetime).dt.total_seconds()"
   ]
  },
  {
   "cell_type": "code",
   "execution_count": null,
   "metadata": {},
   "outputs": [],
   "source": [
    "#plot it\n",
    "df.trip_duration.hist(bins=100)"
   ]
  },
  {
   "cell_type": "code",
   "execution_count": null,
   "metadata": {},
   "outputs": [],
   "source": [
    "# zoomed in it reveals a very nice distribution\n",
    "df[df['trip_duration']<4000].trip_duration.hist(bins=100)"
   ]
  },
  {
   "cell_type": "code",
   "execution_count": null,
   "metadata": {},
   "outputs": [],
   "source": [
    "# and an interesting structure in the distance distribution\n",
    "df[df['trip_distance']<40].trip_distance.hist(bins=100)"
   ]
  },
  {
   "cell_type": "code",
   "execution_count": null,
   "metadata": {},
   "outputs": [],
   "source": [
    "# what is the median duration?\n",
    "df['trip_duration'].median()/60.0"
   ]
  },
  {
   "cell_type": "code",
   "execution_count": null,
   "metadata": {},
   "outputs": [],
   "source": [
    "# let's cut away again the outliers\n",
    "df_cut = df[(df['trip_duration']>0)&(df['trip_duration']<4000)&(df.trip_distance<25)]"
   ]
  },
  {
   "cell_type": "code",
   "execution_count": null,
   "metadata": {},
   "outputs": [],
   "source": [
    "plt.scatter(df_cut.trip_duration, df_cut.trip_distance, s=1)"
   ]
  },
  {
   "cell_type": "code",
   "execution_count": null,
   "metadata": {},
   "outputs": [],
   "source": [
    "heatmap_df = df_cut.groupby([pd.cut(df_cut.trip_distance, 100), pd.cut(df_cut.trip_duration, 100)]).tip_amount.count()\n",
    "from matplotlib.colors import LogNorm\n",
    "import seaborn as sns\n",
    "ax = sns.heatmap(heatmap_df.unstack(), norm=LogNorm(vmin=heatmap_df.min(), vmax=heatmap_df.max()))"
   ]
  },
  {
   "cell_type": "code",
   "execution_count": null,
   "metadata": {},
   "outputs": [],
   "source": [
    "# calcuate and storing the speed \n",
    "df['speed']=(df.trip_distance/df.trip_duration*3600)"
   ]
  },
  {
   "cell_type": "code",
   "execution_count": null,
   "metadata": {},
   "outputs": [],
   "source": [
    "#let's \"zoom in\" into that interesting structure\n",
    "df_cut = df[(df['trip_duration']>0)&(df['trip_duration']<4000)&(df.trip_distance>8)&(df.trip_distance<25)]\n",
    "df_cut = df_cut[df_cut.speed<70]"
   ]
  },
  {
   "cell_type": "code",
   "execution_count": null,
   "metadata": {},
   "outputs": [],
   "source": [
    "# is the speed distribution diffent for longer and shorter rides?\n",
    "fig, ax = plt.subplots()\n",
    "#ax.hist([df[df.trip_distance<15], df[df.trip_distance>15]])\n",
    "df_cut[df_cut.trip_distance<15].speed.hist(ax=ax, bins=100, alpha = 0.5)\n",
    "df_cut[df_cut.trip_distance>15].speed.hist(ax=ax, bins=100, alpha = 0.5)\n",
    "#ax.set_yscale('log')"
   ]
  },
  {
   "cell_type": "code",
   "execution_count": null,
   "metadata": {},
   "outputs": [],
   "source": [
    "# now let's look for traffic jams: is there a speed dependency on the time of day?\n",
    "df_cut = df[(df['trip_duration']>0)&(df['trip_duration']<4000)&(df.trip_distance<25)]\n",
    "df_cut = df_cut[df_cut.speed<70]\n",
    "df_cut.tpep_dropoff_datetime.dt.hour.hist(bins=100)"
   ]
  },
  {
   "cell_type": "code",
   "execution_count": null,
   "metadata": {},
   "outputs": [],
   "source": [
    "plt.scatter(df_cut.tpep_dropoff_datetime.dt.hour, df_cut.speed, s=1)"
   ]
  },
  {
   "cell_type": "code",
   "execution_count": null,
   "metadata": {},
   "outputs": [],
   "source": [
    "sns.regplot(x=df_cut.tpep_pickup_datetime.dt.hour, y=df_cut.speed, x_bins=50, fit_reg=None)"
   ]
  },
  {
   "cell_type": "code",
   "execution_count": null,
   "metadata": {},
   "outputs": [],
   "source": [
    "heatmap_df = df_cut.groupby([pd.cut(df_cut.tpep_pickup_datetime.dt.hour, 100), pd.cut(df_cut.speed, 100)]).speed.count()\n",
    "\n",
    "ax = sns.heatmap(heatmap_df.unstack(), norm=LogNorm(vmin=heatmap_df.min(), vmax=heatmap_df.max()))"
   ]
  },
  {
   "cell_type": "markdown",
   "metadata": {},
   "source": [
    "# Now it's your turn!\n",
    "Explore a bit further:\n",
    "* can you spot interesting correlations with the speed?\n",
    "* how is distance correlated with the costs of a ride?\n",
    "* are tips in high speed taxis higher?\n"
   ]
  }
 ],
 "metadata": {
  "kernelspec": {
   "display_name": "Python 3",
   "language": "python",
   "name": "python3"
  },
  "language_info": {
   "codemirror_mode": {
    "name": "ipython",
    "version": 3
   },
   "file_extension": ".py",
   "mimetype": "text/x-python",
   "name": "python",
   "nbconvert_exporter": "python",
   "pygments_lexer": "ipython3",
   "version": "3.7.0"
  }
 },
 "nbformat": 4,
 "nbformat_minor": 2
}
