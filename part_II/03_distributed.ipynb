{
 "cells": [
  {
   "cell_type": "markdown",
   "metadata": {
    "slideshow": {
     "slide_type": "slide"
    }
   },
   "source": [
    "\n",
    "# Distributed"
   ]
  },
  {
   "cell_type": "markdown",
   "metadata": {
    "slideshow": {
     "slide_type": "slide"
    }
   },
   "source": [
    "## Dask's schedulers\n",
    "\n",
    "- \"threaded\": a scheduler backed by a thread pool\n",
    "- \"processes\": a scheduler backed by a process pool\n",
    "- \"single-threaded\" (aka \"sync\"): a synchronous scheduler, good for debugging\n",
    "- distributed: a distributed scheduler for executing graphs on multiple machines, see below."
   ]
  },
  {
   "cell_type": "markdown",
   "metadata": {
    "slideshow": {
     "slide_type": "slide"
    }
   },
   "source": [
    "## Select a scheduler\n",
    "\n",
    "```python\n",
    "with dask.config.set(scheduler='processes'):\n",
    "    # set temporarily fo this block only\n",
    "    myvalue.compute()\n",
    "\n",
    "dask.config.set(scheduler='processes')\n",
    "# set until further notice\n",
    "```"
   ]
  },
  {
   "cell_type": "markdown",
   "metadata": {
    "slideshow": {
     "slide_type": "slide"
    }
   },
   "source": [
    "## Making a cluster\n",
    "\n",
    "* Locally using `LocalCluster` class\n",
    "* Kubernetes using https://github.com/dask/dask-kubernetes\n",
    "* Job schedulers like PBS, SLURM, and SGE https://dask-jobqueue.readthedocs.io\n",
    "* Start `dask-scheduler` and `dask-worker` explicitly"
   ]
  },
  {
   "cell_type": "code",
   "execution_count": null,
   "metadata": {
    "slideshow": {
     "slide_type": "slide"
    }
   },
   "outputs": [],
   "source": [
    "from dask.distributed import Client, LocalCluster\n",
    "\n",
    "cluster = LocalCluster(diagnostics_port=8080)\n",
    "cluster"
   ]
  },
  {
   "cell_type": "code",
   "execution_count": null,
   "metadata": {
    "slideshow": {
     "slide_type": "slide"
    }
   },
   "outputs": [],
   "source": [
    "client = Client(cluster)\n",
    "client"
   ]
  },
  {
   "cell_type": "markdown",
   "metadata": {
    "slideshow": {
     "slide_type": "slide"
    }
   },
   "source": [
    "## Executing with the distributed client\n",
    "\n",
    "* Once you instantiate a client, it's the default\n",
    "* Use the dashboard to confirm\n",
    "* The dashboad gives great insight into a what's happening"
   ]
  },
  {
   "cell_type": "markdown",
   "metadata": {
    "slideshow": {
     "slide_type": "slide"
    }
   },
   "source": [
    "## Excursion: DataFrame storage\n",
    "\n",
    "* Normally table-like data comes as CSV\n",
    "* Decompressing text and parsing CSV files is expensive\n",
    "* Alternatives:\n",
    " * HDF5 in the scientific work\n",
    " * Apache Parquet in the industry\n",
    "* Blog Post: https://tech.blue-yonder.com/efficient-dataframe-storage-with-apache-parquet/"
   ]
  },
  {
   "cell_type": "markdown",
   "metadata": {
    "slideshow": {
     "slide_type": "slide"
    }
   },
   "source": [
    "## Convert taxi dataset to Parquet\n",
    "\n",
    "This gives us the chance to use the distributed scheduler"
   ]
  },
  {
   "cell_type": "code",
   "execution_count": null,
   "metadata": {},
   "outputs": [],
   "source": [
    "import os",
    "\n",
    "nytaxi_directory='/srv/taxi-data-csv'"
   ]
  },
  {
   "cell_type": "code",
   "execution_count": null,
   "metadata": {},
   "outputs": [],
   "source": [
    "import glob\n",
    "\n",
    "csv_files = glob.glob(os.path.join(nytaxi_directory, '*.csv'))"
   ]
  },
  {
   "cell_type": "code",
   "execution_count": null,
   "metadata": {
    "slideshow": {
     "slide_type": "slide"
    }
   },
   "outputs": [],
   "source": [
    "from dask import delayed\n",
    "\n",
    "@delayed\n",
    "def read_taxi_df(filename): \n",
    "    # As usual, we need do to some essential data cleaning to get\n",
    "    # the correct data types.\n",
    "    df = pd.read_csv(\n",
    "        csv_files[0],\n",
    "        parse_dates=['tpep_pickup_datetime', 'tpep_dropoff_datetime'],\n",
    "        infer_datetime_format=True,\n",
    "    )\n",
    "    df['store_and_fwd_flag'] = (df['store_and_fwd_flag'] == 'Y')\n",
    "    return df"
   ]
  },
  {
   "cell_type": "code",
   "execution_count": null,
   "metadata": {
    "slideshow": {
     "slide_type": "slide"
    }
   },
   "outputs": [],
   "source": [
    "import dask\n",
    "\n",
    "tasks = [(f, read_taxi_df(f)) for f in csv_files]\n",
    "tasks"
   ]
  },
  {
   "cell_type": "code",
   "execution_count": null,
   "metadata": {
    "slideshow": {
     "slide_type": "slide"
    }
   },
   "outputs": [],
   "source": [
    "@delayed\n",
    "def store_parquet(filename, df):\n",
    "    # This changes file extension and folder name\n",
    "    f = filename.replace('csv', 'parquet')\n",
    "    return df.to_parquet(f, engine='pyarrow')\n",
    "\n",
    "tasks = [store_parquet(f, df) for f, df in tasks]"
   ]
  },
  {
   "cell_type": "code",
   "execution_count": null,
   "metadata": {
    "slideshow": {
     "slide_type": "slide"
    }
   },
   "outputs": [],
   "source": [
    "future = client.compute(tasks)"
   ]
  },
  {
   "cell_type": "code",
   "execution_count": null,
   "metadata": {
    "slideshow": {
     "slide_type": "fragment"
    }
   },
   "outputs": [],
   "source": [
    "from distributed import progress\n",
    "\n",
    "progress(future)"
   ]
  },
  {
   "cell_type": "code",
   "execution_count": null,
   "metadata": {
    "slideshow": {
     "slide_type": "slide"
    }
   },
   "outputs": [],
   "source": [
    "cluster"
   ]
  },
  {
   "cell_type": "markdown",
   "metadata": {
    "slideshow": {
     "slide_type": "slide"
    }
   },
   "source": [
    "## Remote files\n",
    "\n",
    "* Files are not always local to the worker.\n",
    "* In HPC systems, there is often a cluster filesystem \n",
    "* Otherwise:\n",
    " * Filesystems: http://dask.pydata.org/en/latest/remote-data-services.html\n",
    " * Simple Storage: https://github.com/mbr/simplekv / https://github.com/blue-yonder/storefact"
   ]
  }
 ],
 "metadata": {
  "anaconda-cloud": {},
  "celltoolbar": "Slideshow",
  "kernelspec": {
   "display_name": "Python 3",
   "language": "python",
   "name": "python3"
  },
  "language_info": {
   "codemirror_mode": {
    "name": "ipython",
    "version": 3
   },
   "file_extension": ".py",
   "mimetype": "text/x-python",
   "name": "python",
   "nbconvert_exporter": "python",
   "pygments_lexer": "ipython3",
   "version": "3.6.6"
  }
 },
 "nbformat": 4,
 "nbformat_minor": 1
}
